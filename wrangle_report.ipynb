{
 "cells": [
  {
   "cell_type": "markdown",
   "id": "psychological-negotiation",
   "metadata": {},
   "source": [
    "# Data Wrangling Report\n",
    "#### by: Mostafa Mohammad Bestawy Elnoby\n",
    "#### March 2021"
   ]
  },
  {
   "cell_type": "markdown",
   "id": "acknowledged-words",
   "metadata": {},
   "source": [
    "This report explains main steps performed to wrangle data as a part of Udacity Data professional Nanodegree Program, Project 2 \"Wrangle and Analysis Data\""
   ]
  },
  {
   "cell_type": "markdown",
   "id": "adopted-keyboard",
   "metadata": {},
   "source": [
    "### About the Dataset"
   ]
  },
  {
   "cell_type": "markdown",
   "id": "noticed-renewal",
   "metadata": {},
   "source": [
    "The dataset  will be wrangling (and analyzing and visualizing) is the tweet archive of Twitter user @dog_rates, also known as WeRateDogs. WeRateDogs is a Twitter account that rates people's dogs with a humorous comment about the dog. These ratings almost always have a denominator of 10. The numerators, though? Almost always greater than 10. 11/10, 12/10, 13/10, etc. Why? Because \"they're good dogs Brent.\" WeRateDogs has over 4 million followers and has received international media coverage."
   ]
  },
  {
   "cell_type": "markdown",
   "id": "proved-reggae",
   "metadata": {},
   "source": [
    "### Data Gathering"
   ]
  },
  {
   "cell_type": "markdown",
   "id": "casual-seating",
   "metadata": {},
   "source": [
    "dataset has been collected from different data source as follows:"
   ]
  },
  {
   "cell_type": "markdown",
   "id": "regulated-presence",
   "metadata": {},
   "source": [
    "###### 1.load data from available twitter-archive-enhanced-2.csv file to form df_twitter_archive dataframe.\n",
    "###### 2. download image-predictions.tsv file rogrammatically using the requests library  and save it to working dirctory as image-predictions.tsv file, to form df_image_predictions dataframe.\n",
    "###### 3.scrape twitter API and save data to local directory tweet_json.txt, then use json library to extract retweet_count and favoriye_count to  form  df_counts dataframe."
   ]
  },
  {
   "cell_type": "markdown",
   "id": "prescription-primary",
   "metadata": {},
   "source": [
    "### Data Assessment"
   ]
  },
  {
   "cell_type": "markdown",
   "id": "altered-threat",
   "metadata": {},
   "source": [
    "###### using both visual assessment and programetic assessment,dataframes were invistigated and checked for any quality or tidiness issues."
   ]
  },
  {
   "cell_type": "markdown",
   "id": "thrown-hypothetical",
   "metadata": {},
   "source": [
    "###### issues were listed as below:\n",
    "### Quality\n",
    "###### 1- df_twitter_archive --> retweets and replies included\n",
    "###### 2- df_twitter_archive --> timestamp not datetime\n",
    "###### 3- df_twitter_archive --> non standard column name timestamp\n",
    "###### 4- df_twitter_archive --> invalid rating_numerator values greater than 20 \n",
    "###### 5- df_twitter_archive --> invalid rating_denominator values not equal 10\n",
    "###### 6- df_twitter_archive --> invalid name values None,a,the,an,by,one,his,my\n",
    "###### 7-df_image_predictions --> non-descriptive column names p1,p2,p3,p1_dog,p2_dog,p3_dog,p1_conf,p2_conf,p3_conf\n",
    "###### 8- df_image_predictions --> uncosistent p1,p3,p3 values\n",
    "###### 9- df_image_predictions --> remove unwanted colums after achieving tidness(p1,p2,p3,p1_dog,p2_dog,p3_dog,p1_conf,p2_conf,p3_conf)\n",
    "###### 10-df_twitter_archive --> rename  rating_numerator column after droping denomrtor  to  more descriptive name 'rating'\n",
    "### Tidness\n",
    "######  1-df_twitter_archive --> stage variable not in one column\n",
    "###### 2-df_counts & df_twitter_archive --> untidy tables same observation unit must be in same tabel\n",
    "###### -3-df_counts --> missing 2356-2331 = 25 values for tiddness\n",
    "###### 4-df_image_predictions --> prediction variable not in one column\n",
    "###### 5-df_image_predictions & df_twitter_archive --> merge two dataframes    "
   ]
  },
  {
   "cell_type": "markdown",
   "id": "offensive-progress",
   "metadata": {},
   "source": [
    "### Clean"
   ]
  },
  {
   "cell_type": "markdown",
   "id": "nervous-protection",
   "metadata": {},
   "source": [
    "### before cleaning a dataframe copy is saved,then cleaning is performed for each issue by 3 main sub-steps: define,code,test after cleaning each issue listed before, cleaned dataframe is saved\n",
    "### finally, a cleaned datafrme copy  saved to  twitter_archive_master.csv file\n",
    "\n",
    "    "
   ]
  },
  {
   "cell_type": "code",
   "execution_count": null,
   "id": "therapeutic-discipline",
   "metadata": {},
   "outputs": [],
   "source": []
  }
 ],
 "metadata": {
  "kernelspec": {
   "display_name": "Python 3",
   "language": "python",
   "name": "python3"
  },
  "language_info": {
   "codemirror_mode": {
    "name": "ipython",
    "version": 3
   },
   "file_extension": ".py",
   "mimetype": "text/x-python",
   "name": "python",
   "nbconvert_exporter": "python",
   "pygments_lexer": "ipython3",
   "version": "3.8.5"
  }
 },
 "nbformat": 4,
 "nbformat_minor": 5
}
